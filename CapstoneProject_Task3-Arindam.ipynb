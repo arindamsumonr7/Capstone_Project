{
 "cells": [
  {
   "cell_type": "code",
   "execution_count": 1,
   "id": "8c25ee26",
   "metadata": {},
   "outputs": [],
   "source": [
    "from pyspark.sql import SparkSession\n",
    "spark = SparkSession.builder \\\n",
    "                    .appName('Capstone') \\\n",
    "                    .enableHiveSupport().getOrCreate()"
   ]
  },
  {
   "cell_type": "code",
   "execution_count": 2,
   "id": "4cdc8b51",
   "metadata": {},
   "outputs": [
    {
     "data": {
      "text/html": [
       "\n",
       "            <div>\n",
       "                <p><b>SparkSession - hive</b></p>\n",
       "                \n",
       "        <div>\n",
       "            <p><b>SparkContext</b></p>\n",
       "\n",
       "            <p><a href=\"http://g01.itversity.com:4041\">Spark UI</a></p>\n",
       "\n",
       "            <dl>\n",
       "              <dt>Version</dt>\n",
       "                <dd><code>v3.0.1</code></dd>\n",
       "              <dt>Master</dt>\n",
       "                <dd><code>yarn</code></dd>\n",
       "              <dt>AppName</dt>\n",
       "                <dd><code>Capstone</code></dd>\n",
       "            </dl>\n",
       "        </div>\n",
       "        \n",
       "            </div>\n",
       "        "
      ],
      "text/plain": [
       "<pyspark.sql.session.SparkSession at 0x7fb345cff390>"
      ]
     },
     "execution_count": 2,
     "metadata": {},
     "output_type": "execute_result"
    }
   ],
   "source": [
    "spark"
   ]
  },
  {
   "cell_type": "code",
   "execution_count": 7,
   "id": "b86bcb15",
   "metadata": {},
   "outputs": [
    {
     "name": "stdout",
     "output_type": "stream",
     "text": [
      "+----------+--------+---------+--------------+-----+-------------+\n",
      "|studentsid|courseid| examdate|attendedstatus|marks|       result|\n",
      "+----------+--------+---------+--------------+-----+-------------+\n",
      "|     S0001|   C0001|17 Feb 19|      Attended|   70|    Qualified|\n",
      "|     S0298|   C0008|24 Feb 19|      Attended|   70|    Qualified|\n",
      "|     S0297|   C0007|23 Feb 19|        Absent|    0|Not Qualified|\n",
      "|     S0296|   C0030|20 Feb 19|      Attended|   70|    Qualified|\n",
      "|     S0291|   C0013| 1 Mar 19|      Attended|   85|    Qualified|\n",
      "|     S0290|   C0017| 5 Mar 19|        Absent|    0|Not Qualified|\n",
      "|     S0289|   C0016| 4 Mar 19|        Absent|    0|Not Qualified|\n",
      "|     S0288|   C0015| 3 Mar 19|        Absent|    0|Not Qualified|\n",
      "|     S0287|   C0014| 2 Mar 19|        Absent|    0|Not Qualified|\n",
      "|     S0286|   C0013| 1 Mar 19|      Attended|   85|    Qualified|\n",
      "|     S0285|   C0012|28 Feb 19|      Attended|   70|    Qualified|\n",
      "|     S0284|   C0011|27 Feb 19|        Absent|    0|Not Qualified|\n",
      "|     S0283|   C0010|26 Feb 19|        Absent|    0|Not Qualified|\n",
      "|     S0281|   C0008|24 Feb 19|      Attended|   70|    Qualified|\n",
      "|     S0280|   C0007|23 Feb 19|        Absent|    0|Not Qualified|\n",
      "|     S0279|   C0006|22 Feb 19|        Absent|    0|Not Qualified|\n",
      "|     S0278|   C0005|21 Feb 19|        Absent|    0|Not Qualified|\n",
      "|     S0276|   C0003|19 Feb 19|      Attended|   70|    Qualified|\n",
      "|     S0275|   C0017| 5 Mar 19|        Absent|    0|Not Qualified|\n",
      "|     S0274|   C0016| 4 Mar 19|        Absent|    0|Not Qualified|\n",
      "+----------+--------+---------+--------------+-----+-------------+\n",
      "only showing top 20 rows\n",
      "\n"
     ]
    }
   ],
   "source": [
    "df_Course_Completion= spark.sql(\"Select * from ArindamDB.course_completion\")\n",
    "df_Course_Completion.show()"
   ]
  },
  {
   "cell_type": "code",
   "execution_count": 8,
   "id": "a8d01b97",
   "metadata": {},
   "outputs": [
    {
     "name": "stdout",
     "output_type": "stream",
     "text": [
      "root\n",
      " |-- studentsid: string (nullable = true)\n",
      " |-- courseid: string (nullable = true)\n",
      " |-- examdate: string (nullable = true)\n",
      " |-- attendedstatus: string (nullable = true)\n",
      " |-- marks: integer (nullable = true)\n",
      " |-- result: string (nullable = true)\n",
      "\n"
     ]
    }
   ],
   "source": [
    "df_Course_Completion.printSchema()"
   ]
  },
  {
   "cell_type": "code",
   "execution_count": 9,
   "id": "652ed256",
   "metadata": {},
   "outputs": [
    {
     "name": "stdout",
     "output_type": "stream",
     "text": [
      "+--------------------+--------+--------------------+----------+----------+\n",
      "|               title|courseid|          competency|complexity|coursetype|\n",
      "+--------------------+--------+--------------------+----------+----------+\n",
      "|               Cloud|   C0004|BE (Hons) in CSE ...|    Domain|  Advanced|\n",
      "|               Cloud|   C0005|BTech in Computer...|    Domain|  Advanced|\n",
      "|               Cloud|   C0006|BTech in Computer...|    Domain|  Advanced|\n",
      "|               Cloud|   C0007|BCA with Microsof...|  Security|  Advanced|\n",
      "|               Cloud|   C0008|BTech in Informat...| Technical|  Advanced|\n",
      "|               Cloud|   C0009|MCA with speciali...| Technical|  Advanced|\n",
      "|Hardware and Netw...|   C0013|B.Sc in Hardware ...|    Domain|  Advanced|\n",
      "|Hardware and Netw...|   C0017|M.Tech in Network...|    Domain|  Advanced|\n",
      "|Hardware and Netw...|   C0018|M.Sc in Hardware ...|    Domain|  Advanced|\n",
      "|Hardware and Netw...|   C0019|MSc in Wireless N...|    Domain|  Advanced|\n",
      "|Hardware and Netw...|   C0020|Diploma in Comput...|    Domain|  Advanced|\n",
      "|Hardware and Netw...|   C0021|Diploma of Networ...|    Domain|  Advanced|\n",
      "|Hardware and Netw...|   C0022|Diploma in Comput...|    Domain|  Advanced|\n",
      "|Hardware and Netw...|   C0023|Diploma in IT and...| Technical|  Advanced|\n",
      "|     Web Development|   C0025|Graduate Certific...|    Domain|  Advanced|\n",
      "|     Web Development|   C0029|Diploma in Contem...| Technical|  Advanced|\n",
      "|               Cloud|   C0001|Certificate in Cl...| Technical|     Basic|\n",
      "|               Cloud|   C0002|Certificate in Vi...| Technical|     Basic|\n",
      "|               Cloud|   C0010|ME in Cloud Compu...| Technical|     Basic|\n",
      "|               Cloud|   C0011|MTech Computer Sc...| Technical|     Basic|\n",
      "+--------------------+--------+--------------------+----------+----------+\n",
      "only showing top 20 rows\n",
      "\n"
     ]
    }
   ],
   "source": [
    "df_Course_details= spark.sql(\"Select * from ArindamDB.course_details\")\n",
    "df_Course_details.show()"
   ]
  },
  {
   "cell_type": "code",
   "execution_count": 10,
   "id": "db8d1dd4",
   "metadata": {},
   "outputs": [
    {
     "name": "stdout",
     "output_type": "stream",
     "text": [
      "root\n",
      " |-- title: string (nullable = true)\n",
      " |-- courseid: string (nullable = true)\n",
      " |-- competency: string (nullable = true)\n",
      " |-- complexity: string (nullable = true)\n",
      " |-- coursetype: string (nullable = true)\n",
      "\n"
     ]
    }
   ],
   "source": [
    "df_Course_details.printSchema()"
   ]
  },
  {
   "cell_type": "code",
   "execution_count": 13,
   "id": "ee23d3f7",
   "metadata": {},
   "outputs": [
    {
     "data": {
      "text/html": [
       "<table border='1'>\n",
       "<tr><th>result</th><th>count</th></tr>\n",
       "<tr><td>Not Qualified</td><td>149</td></tr>\n",
       "<tr><td>Qualified</td><td>151</td></tr>\n",
       "</table>\n"
      ],
      "text/plain": [
       "+-------------+-----+\n",
       "|       result|count|\n",
       "+-------------+-----+\n",
       "|Not Qualified|  149|\n",
       "|    Qualified|  151|\n",
       "+-------------+-----+"
      ]
     },
     "execution_count": 13,
     "metadata": {},
     "output_type": "execute_result"
    }
   ],
   "source": [
    "df_Course_Completion.groupBy(\"result\").count().alias(\"Student_Count\")"
   ]
  },
  {
   "cell_type": "code",
   "execution_count": 12,
   "id": "2a2b74dc",
   "metadata": {},
   "outputs": [
    {
     "data": {
      "text/html": [
       "<table border='1'>\n",
       "<tr><th>studentsid</th><th>courseid</th><th>examdate</th><th>attendedstatus</th><th>marks</th><th>result</th></tr>\n",
       "<tr><td>S0297</td><td>C0007</td><td>23 Feb 19</td><td>Absent</td><td>0</td><td>Not Qualified</td></tr>\n",
       "<tr><td>S0290</td><td>C0017</td><td>5 Mar 19</td><td>Absent</td><td>0</td><td>Not Qualified</td></tr>\n",
       "<tr><td>S0289</td><td>C0016</td><td>4 Mar 19</td><td>Absent</td><td>0</td><td>Not Qualified</td></tr>\n",
       "<tr><td>S0288</td><td>C0015</td><td>3 Mar 19</td><td>Absent</td><td>0</td><td>Not Qualified</td></tr>\n",
       "<tr><td>S0287</td><td>C0014</td><td>2 Mar 19</td><td>Absent</td><td>0</td><td>Not Qualified</td></tr>\n",
       "<tr><td>S0284</td><td>C0011</td><td>27 Feb 19</td><td>Absent</td><td>0</td><td>Not Qualified</td></tr>\n",
       "<tr><td>S0283</td><td>C0010</td><td>26 Feb 19</td><td>Absent</td><td>0</td><td>Not Qualified</td></tr>\n",
       "<tr><td>S0280</td><td>C0007</td><td>23 Feb 19</td><td>Absent</td><td>0</td><td>Not Qualified</td></tr>\n",
       "<tr><td>S0279</td><td>C0006</td><td>22 Feb 19</td><td>Absent</td><td>0</td><td>Not Qualified</td></tr>\n",
       "<tr><td>S0278</td><td>C0005</td><td>21 Feb 19</td><td>Absent</td><td>0</td><td>Not Qualified</td></tr>\n",
       "<tr><td>S0275</td><td>C0017</td><td>5 Mar 19</td><td>Absent</td><td>0</td><td>Not Qualified</td></tr>\n",
       "<tr><td>S0274</td><td>C0016</td><td>4 Mar 19</td><td>Absent</td><td>0</td><td>Not Qualified</td></tr>\n",
       "<tr><td>S0273</td><td>C0015</td><td>3 Mar 19</td><td>Absent</td><td>0</td><td>Not Qualified</td></tr>\n",
       "<tr><td>S0272</td><td>C0014</td><td>2 Mar 19</td><td>Absent</td><td>0</td><td>Not Qualified</td></tr>\n",
       "<tr><td>S0269</td><td>C0011</td><td>27 Feb 19</td><td>Absent</td><td>0</td><td>Not Qualified</td></tr>\n",
       "<tr><td>S0268</td><td>C0010</td><td>26 Feb 19</td><td>Absent</td><td>0</td><td>Not Qualified</td></tr>\n",
       "<tr><td>S0265</td><td>C0007</td><td>23 Feb 19</td><td>Absent</td><td>0</td><td>Not Qualified</td></tr>\n",
       "<tr><td>S0264</td><td>C0006</td><td>22 Feb 19</td><td>Absent</td><td>0</td><td>Not Qualified</td></tr>\n",
       "<tr><td>S0263</td><td>C0005</td><td>21 Feb 19</td><td>Absent</td><td>0</td><td>Not Qualified</td></tr>\n",
       "<tr><td>S0260</td><td>C0002</td><td>18 Feb 19</td><td>Absent</td><td>0</td><td>Not Qualified</td></tr>\n",
       "</table>\n",
       "only showing top 20 rows\n"
      ],
      "text/plain": [
       "+----------+--------+---------+--------------+-----+-------------+\n",
       "|studentsid|courseid| examdate|attendedstatus|marks|       result|\n",
       "+----------+--------+---------+--------------+-----+-------------+\n",
       "|     S0297|   C0007|23 Feb 19|        Absent|    0|Not Qualified|\n",
       "|     S0290|   C0017| 5 Mar 19|        Absent|    0|Not Qualified|\n",
       "|     S0289|   C0016| 4 Mar 19|        Absent|    0|Not Qualified|\n",
       "|     S0288|   C0015| 3 Mar 19|        Absent|    0|Not Qualified|\n",
       "|     S0287|   C0014| 2 Mar 19|        Absent|    0|Not Qualified|\n",
       "|     S0284|   C0011|27 Feb 19|        Absent|    0|Not Qualified|\n",
       "|     S0283|   C0010|26 Feb 19|        Absent|    0|Not Qualified|\n",
       "|     S0280|   C0007|23 Feb 19|        Absent|    0|Not Qualified|\n",
       "|     S0279|   C0006|22 Feb 19|        Absent|    0|Not Qualified|\n",
       "|     S0278|   C0005|21 Feb 19|        Absent|    0|Not Qualified|\n",
       "|     S0275|   C0017| 5 Mar 19|        Absent|    0|Not Qualified|\n",
       "|     S0274|   C0016| 4 Mar 19|        Absent|    0|Not Qualified|\n",
       "|     S0273|   C0015| 3 Mar 19|        Absent|    0|Not Qualified|\n",
       "|     S0272|   C0014| 2 Mar 19|        Absent|    0|Not Qualified|\n",
       "|     S0269|   C0011|27 Feb 19|        Absent|    0|Not Qualified|\n",
       "|     S0268|   C0010|26 Feb 19|        Absent|    0|Not Qualified|\n",
       "|     S0265|   C0007|23 Feb 19|        Absent|    0|Not Qualified|\n",
       "|     S0264|   C0006|22 Feb 19|        Absent|    0|Not Qualified|\n",
       "|     S0263|   C0005|21 Feb 19|        Absent|    0|Not Qualified|\n",
       "|     S0260|   C0002|18 Feb 19|        Absent|    0|Not Qualified|\n",
       "+----------+--------+---------+--------------+-----+-------------+\n",
       "only showing top 20 rows"
      ]
     },
     "execution_count": 12,
     "metadata": {},
     "output_type": "execute_result"
    }
   ],
   "source": [
    "df_Course_Completion.filter(df_Course_Completion.attendedstatus == \"Absent\")"
   ]
  },
  {
   "cell_type": "code",
   "execution_count": 18,
   "id": "4d01c56f",
   "metadata": {},
   "outputs": [],
   "source": [
    "from pyspark.sql.functions import max,min,avg,col"
   ]
  },
  {
   "cell_type": "code",
   "execution_count": 20,
   "id": "8a2c4667",
   "metadata": {},
   "outputs": [
    {
     "data": {
      "text/html": [
       "<table border='1'>\n",
       "<tr><th>studentsid</th><th>MaxMarks</th><th>MinMarks</th><th>AvgMarks</th></tr>\n",
       "<tr><td>S0010</td><td>0</td><td>0</td><td>0.0</td></tr>\n",
       "<tr><td>S0049</td><td>77</td><td>77</td><td>77.0</td></tr>\n",
       "<tr><td>S0281</td><td>70</td><td>70</td><td>70.0</td></tr>\n",
       "<tr><td>S0242</td><td>0</td><td>0</td><td>0.0</td></tr>\n",
       "<tr><td>S0120</td><td>70</td><td>70</td><td>70.0</td></tr>\n",
       "<tr><td>S0030</td><td>70</td><td>70</td><td>70.0</td></tr>\n",
       "<tr><td>S0161</td><td>70</td><td>70</td><td>70.0</td></tr>\n",
       "<tr><td>S0111</td><td>0</td><td>0</td><td>0.0</td></tr>\n",
       "<tr><td>S0086</td><td>0</td><td>0</td><td>0.0</td></tr>\n",
       "<tr><td>S0128</td><td>91</td><td>91</td><td>91.0</td></tr>\n",
       "<tr><td>S0169</td><td>91</td><td>91</td><td>91.0</td></tr>\n",
       "<tr><td>S0292</td><td>86</td><td>86</td><td>86.0</td></tr>\n",
       "<tr><td>S0069</td><td>86</td><td>86</td><td>86.0</td></tr>\n",
       "<tr><td>S0139</td><td>0</td><td>0</td><td>0.0</td></tr>\n",
       "<tr><td>S0202</td><td>0</td><td>0</td><td>0.0</td></tr>\n",
       "<tr><td>S0154</td><td>85</td><td>85</td><td>85.0</td></tr>\n",
       "<tr><td>S0142</td><td>70</td><td>70</td><td>70.0</td></tr>\n",
       "<tr><td>S0112</td><td>0</td><td>0</td><td>0.0</td></tr>\n",
       "<tr><td>S0289</td><td>0</td><td>0</td><td>0.0</td></tr>\n",
       "<tr><td>S0272</td><td>0</td><td>0</td><td>0.0</td></tr>\n",
       "</table>\n",
       "only showing top 20 rows\n"
      ],
      "text/plain": [
       "+----------+--------+--------+--------+\n",
       "|studentsid|MaxMarks|MinMarks|AvgMarks|\n",
       "+----------+--------+--------+--------+\n",
       "|     S0010|       0|       0|     0.0|\n",
       "|     S0049|      77|      77|    77.0|\n",
       "|     S0281|      70|      70|    70.0|\n",
       "|     S0242|       0|       0|     0.0|\n",
       "|     S0120|      70|      70|    70.0|\n",
       "|     S0030|      70|      70|    70.0|\n",
       "|     S0161|      70|      70|    70.0|\n",
       "|     S0128|      91|      91|    91.0|\n",
       "|     S0111|       0|       0|     0.0|\n",
       "|     S0086|       0|       0|     0.0|\n",
       "|     S0169|      91|      91|    91.0|\n",
       "|     S0292|      86|      86|    86.0|\n",
       "|     S0069|      86|      86|    86.0|\n",
       "|     S0139|       0|       0|     0.0|\n",
       "|     S0202|       0|       0|     0.0|\n",
       "|     S0154|      85|      85|    85.0|\n",
       "|     S0142|      70|      70|    70.0|\n",
       "|     S0112|       0|       0|     0.0|\n",
       "|     S0289|       0|       0|     0.0|\n",
       "|     S0272|       0|       0|     0.0|\n",
       "+----------+--------+--------+--------+\n",
       "only showing top 20 rows"
      ]
     },
     "execution_count": 20,
     "metadata": {},
     "output_type": "execute_result"
    }
   ],
   "source": [
    "df_Course_Completion.groupBy(\"studentsid\").agg(max(col(\"marks\")).alias(\"MaxMarks\"),min(col(\"marks\")).alias(\"MinMarks\"),avg(col(\"marks\")).alias(\"AvgMarks\"))"
   ]
  },
  {
   "cell_type": "code",
   "execution_count": null,
   "id": "f5ba148f",
   "metadata": {},
   "outputs": [],
   "source": []
  }
 ],
 "metadata": {
  "kernelspec": {
   "display_name": "Pyspark 3",
   "language": "python",
   "name": "pyspark3"
  },
  "language_info": {
   "codemirror_mode": {
    "name": "ipython",
    "version": 3
   },
   "file_extension": ".py",
   "mimetype": "text/x-python",
   "name": "python",
   "nbconvert_exporter": "python",
   "pygments_lexer": "ipython3",
   "version": "3.6.12"
  }
 },
 "nbformat": 4,
 "nbformat_minor": 5
}
